{
 "cells": [
  {
   "cell_type": "code",
   "execution_count": 1,
   "metadata": {},
   "outputs": [],
   "source": [
    "# In this script we analytically show that DEJMPS achieves the highest\n",
    "# fidelity out of all bilocal Clifford protocols for all rho^{\\otimes 2} with rho bell-diagonal.\n",
    "\n",
    "import numpy as np\n",
    "import itertools as it"
   ]
  },
  {
   "cell_type": "markdown",
   "metadata": {},
   "source": [
    "Number of qubits"
   ]
  },
  {
   "cell_type": "code",
   "execution_count": 2,
   "metadata": {},
   "outputs": [],
   "source": [
    "m = 2\n",
    "\n",
    "# Load transversal\n",
    "transversal_inv = load('2_transversal_inv.sobj')"
   ]
  },
  {
   "cell_type": "markdown",
   "metadata": {},
   "source": [
    "Functions"
   ]
  },
  {
   "cell_type": "code",
   "execution_count": 3,
   "metadata": {},
   "outputs": [],
   "source": [
    "def base(M, n):\n",
    "    # calculate the image of the base under a matrix M\n",
    "    \n",
    "    # make a set of all combinations of the first column and the last n columns (these correspond to X_1, Z_1,...,Z_n)\n",
    "    s = []\n",
    "    for i in range(n+1, 2*n):\n",
    "        s.append(M[0:2*n, i])\n",
    "    powerset = it.chain.from_iterable(it.combinations(s, r) for r in range(1, len(s)+1))\n",
    "    \n",
    "    res = [vector(GF(2),2*n)]\n",
    "        \n",
    "    for i in powerset:\n",
    "        v = vector(sum(i))     # calculate the sum of the elements of each combination (e.g IZZ = IZI + IIZ)\n",
    "        res.append(v)\n",
    "        \n",
    "    return res"
   ]
  },
  {
   "cell_type": "code",
   "execution_count": 4,
   "metadata": {},
   "outputs": [],
   "source": [
    "def pillars(M, n):\n",
    "    # calculate the image of the pillars under a matrix M\n",
    "    \n",
    "    X1 = vector(M[0:2*n, 0])\n",
    "    Z1 = vector(M[0:2*n, n])\n",
    "    Y1 = X1 + Z1\n",
    "    \n",
    "    pI = base(M, n)\n",
    "    pX = [(X1 + b) for b in pI]\n",
    "    pY = [(Y1 + b) for b in pI]\n",
    "    pZ = [(Z1 + b) for b in pI]\n",
    "    \n",
    "    return [pI, pX, pY, pZ]   "
   ]
  },
  {
   "cell_type": "code",
   "execution_count": 5,
   "metadata": {},
   "outputs": [],
   "source": [
    "def tensor(A, n):\n",
    "    # calculate the n fold tensor product of a matrix A\n",
    "    \n",
    "    kron = A\n",
    "    count = 1\n",
    "    while count < n:\n",
    "        kron = np.kron(kron,A)\n",
    "        count = count + 1\n",
    "        \n",
    "    if n == 2:\n",
    "        res = np.reshape(kron, (4,4))\n",
    "    elif n == 3:\n",
    "        res = np.reshape(kron, (4,4,4)) \n",
    "    elif n == 4:\n",
    "        res = np.reshape(kron, (4,4,4,4)) \n",
    "    elif n == 5:\n",
    "        res = np.reshape(kron, (4,4,4,4,4)) \n",
    "        \n",
    "    return res"
   ]
  },
  {
   "cell_type": "code",
   "execution_count": 6,
   "metadata": {},
   "outputs": [],
   "source": [
    "def dist_stat(initial, M, n):\n",
    "    # returns the success probability of an n-to-1 protocol M applied to an initial state\n",
    "    pil = pillars(M, n)\n",
    "    out = []\n",
    "    for layer in pil:   \n",
    "        coef = 0\n",
    "        for elt in layer:\n",
    "            if n == 2:\n",
    "                coef = coef + initial[int(elt[0]) + 2*int(elt[n]), int(elt[1]) + 2*int(elt[n+1])]\n",
    "            if n == 3:\n",
    "                coef = coef + initial[int(elt[0]) + 2*int(elt[n]), int(elt[1]) + 2*int(elt[n+1]), \\\n",
    "                                   int(elt[2]) + 2*int(elt[n+2])]\n",
    "            if n == 4:\n",
    "                coef = coef + initial[int(elt[0]) + 2*int(elt[n]), int(elt[1]) + 2*int(elt[n+1]), \\\n",
    "                                   int(elt[2]) + 2*int(elt[n+2]), int(elt[3]) + 2*int(elt[n+3])]\n",
    "            if n == 5:\n",
    "                coef = coef + initial[int(elt[0]) + 2*int(elt[n]), int(elt[1]) + 2*int(elt[n+1]), \\\n",
    "                                   int(elt[2]) + 2*int(elt[n+2]), int(elt[3]) + 2*int(elt[n+3]), \\\n",
    "                                    int(elt[4]) + 2*int(elt[n+4])]\n",
    "        out.append(coef)   \n",
    "    sp = sum(out)\n",
    "    fid = out[0]/sp\n",
    "    r = 1 # rate is set to one because we will be inputting variables and do not use it\n",
    "    \n",
    "    return sp, fid, r"
   ]
  },
  {
   "cell_type": "code",
   "execution_count": 7,
   "metadata": {},
   "outputs": [],
   "source": [
    "# gets all possible tuples of success probabilities and fidelities.\n",
    "# Prints the statistics corresponding to applying a CNOT_{12}, i.e. DEJMPS without rotations\n",
    "# prints out the results twice since there is another protocol that achieves this,\n",
    "# since there is the swap symmetry between the two rho states.\n",
    "\n",
    "def sucprob_fid_lists(initial, transversal_inv, n):\n",
    "    # calculate the possible distillation statistics (success probability & fidelity) of the protocols in a transversal\n",
    "    # applied to an initial state\n",
    "    \n",
    "    for key, M in transversal_inv.items():\n",
    "        break\n",
    "        \n",
    "    for i in range(4):\n",
    "        for j in range(4):\n",
    "            if i == j:\n",
    "                M[i, j] = 1\n",
    "            else:\n",
    "                M[i, j] = 0\n",
    "    i = 1\n",
    "    j = 2\n",
    "    \n",
    "    M[j-1, i-1] = 1\n",
    "    M[i-1+n, j-1+n] = 1\n",
    "    \n",
    "    s_DEJMPS = dist_stat(initial, M, 2)[0]\n",
    "    f_DEJMPS = dist_stat(initial, M, 2)[1]\n",
    "    tuple_DEJMPS = (s_DEJMPS, f_DEJMPS)\n",
    "    \n",
    "    fid = []\n",
    "    sp = []\n",
    "    fslist = []\n",
    "    for key, M in transversal_inv.items():\n",
    "        s = dist_stat(initial, M, n)[0]\n",
    "        f = dist_stat(initial, M, n)[1]\n",
    "        if (s,f) not in fslist:\n",
    "            sp.append(s)\n",
    "            fid.append(f)\n",
    "            fslist.append((s,f))\n",
    "        if (s, f) == tuple_DEJMPS:\n",
    "            print('DEJMPS success prob and fidelity are:')\n",
    "            print(s)\n",
    "            print('--')\n",
    "            print(f)\n",
    "            print('--')\n",
    "    return sp, fid"
   ]
  },
  {
   "cell_type": "markdown",
   "metadata": {},
   "source": [
    "Results"
   ]
  },
  {
   "cell_type": "code",
   "execution_count": 8,
   "metadata": {},
   "outputs": [
    {
     "name": "stdout",
     "output_type": "stream",
     "text": [
      "DEJMPS success prob and fidelity are:\n",
      "(a + b + c - 1)^2 + a^2 - 2*(a + b + c - 1)*b + b^2 + 2*a*c + c^2\n",
      "--\n",
      "((a + b + c - 1)^2 + b^2)/((a + b + c - 1)^2 + a^2 - 2*(a + b + c - 1)*b + b^2 + 2*a*c + c^2)\n",
      "--\n",
      "DEJMPS success prob and fidelity are:\n",
      "(a + b + c - 1)^2 + a^2 - 2*(a + b + c - 1)*b + b^2 + 2*a*c + c^2\n",
      "--\n",
      "((a + b + c - 1)^2 + b^2)/((a + b + c - 1)^2 + a^2 - 2*(a + b + c - 1)*b + b^2 + 2*a*c + c^2)\n",
      "--\n"
     ]
    }
   ],
   "source": [
    "# Bell diagonal state\n",
    "\n",
    "a = var(\"a\")\n",
    "b = var(\"b\")\n",
    "c = var(\"c\")\n",
    "\n",
    "init = tensor(vector([1-a-b-c, a, b, c]), m)\n",
    "all_Fs = sucprob_fid_lists(init, transversal_inv, m)[1]"
   ]
  },
  {
   "cell_type": "code",
   "execution_count": 12,
   "metadata": {},
   "outputs": [],
   "source": [
    "DEJMPS = ((a + b + c - 1)^2 + b^2)/((a + b + c - 1)^2 + a^2 - 2*(a + b + c - 1)*b + b^2 + 2*a*c + c^2)\n",
    "# copy the above rational function for the fidelity of DEJMPS"
   ]
  },
  {
   "cell_type": "code",
   "execution_count": 11,
   "metadata": {},
   "outputs": [
    {
     "name": "stdout",
     "output_type": "stream",
     "text": [
      "difference in fidelity between optimal and dejmps protocol:\n",
      "0\n"
     ]
    }
   ],
   "source": [
    "forget()\n",
    "assume(0<a<1) # Assume coefficients are non-negative\n",
    "assume(0<b<1) \n",
    "assume(0<c<1)\n",
    "\n",
    "# assume coefficients are ordered a=>b=>c.\n",
    "# This reordering can be done by local Pauli's, and is part of the original DEJMPS protocol\n",
    "assume(a>b)\n",
    "assume(b>c)\n",
    "assume(a+b+c<1/2)\n",
    "\n",
    "max_protocol = DEJMPS\n",
    "for F in all_Fs:\n",
    "    max_protocol = max_symbolic(max_protocol, DEJMPS).full_simplify()\n",
    "#     max_protocol = max_symbolic(max_protocol, 0.9).full_simplify()\n",
    "print(\"difference in fidelity between optimal and dejmps protocol:\")\n",
    "print((max_protocol-DEJMPS).full_simplify())"
   ]
  },
  {
   "cell_type": "code",
   "execution_count": null,
   "metadata": {},
   "outputs": [],
   "source": [
    "# Since the difference is zero, DEJMPS achieves the highest fidelity"
   ]
  }
 ],
 "metadata": {
  "kernelspec": {
   "display_name": "SageMath 9.0",
   "language": "sage",
   "name": "sagemath"
  },
  "language_info": {
   "codemirror_mode": {
    "name": "ipython",
    "version": 3
   },
   "file_extension": ".py",
   "mimetype": "text/x-python",
   "name": "python",
   "nbconvert_exporter": "python",
   "pygments_lexer": "ipython3",
   "version": "3.7.3"
  }
 },
 "nbformat": 4,
 "nbformat_minor": 2
}
