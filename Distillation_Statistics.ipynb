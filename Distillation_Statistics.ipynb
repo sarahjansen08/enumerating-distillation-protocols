{
 "cells": [
  {
   "cell_type": "code",
   "execution_count": 1,
   "metadata": {},
   "outputs": [],
   "source": [
    "import numpy as np\n",
    "import itertools as it"
   ]
  },
  {
   "cell_type": "markdown",
   "metadata": {},
   "source": [
    "Number of qubits"
   ]
  },
  {
   "cell_type": "code",
   "execution_count": 2,
   "metadata": {},
   "outputs": [],
   "source": [
    "m = 2\n",
    "\n",
    "# Load transversal\n",
    "transversal_inv = load('2_transversal_inv.sobj')"
   ]
  },
  {
   "cell_type": "markdown",
   "metadata": {},
   "source": [
    "Functions"
   ]
  },
  {
   "cell_type": "code",
   "execution_count": 3,
   "metadata": {},
   "outputs": [],
   "source": [
    "def base(M, n):\n",
    "    # calculate the image of the base under a matrix M\n",
    "    \n",
    "    # make a set of all combinations of the first column and the last n columns (these correspond to X_1, Z_1,...,Z_n)\n",
    "    s = []\n",
    "    for i in range(n+1, 2*n):\n",
    "        s.append(M[0:2*n, i])\n",
    "    powerset = it.chain.from_iterable(it.combinations(s, r) for r in range(1, len(s)+1))\n",
    "    \n",
    "    res = [vector(GF(2),2*n)]\n",
    "        \n",
    "    for i in powerset:\n",
    "        v = vector(sum(i))     # calculate the sum of the elements of each combination (e.g IZZ = IZI + IIZ)\n",
    "        res.append(v)\n",
    "        \n",
    "    return res"
   ]
  },
  {
   "cell_type": "code",
   "execution_count": 4,
   "metadata": {},
   "outputs": [],
   "source": [
    "def pillars(M, n):\n",
    "    # calculate the image of the pillars under a matrix M\n",
    "    \n",
    "    X1 = vector(M[0:2*n, 0])\n",
    "    Z1 = vector(M[0:2*n, n])\n",
    "    Y1 = X1 + Z1\n",
    "    \n",
    "    pI = base(M, n)\n",
    "    pX = [(X1 + b) for b in pI]\n",
    "    pY = [(Y1 + b) for b in pI]\n",
    "    pZ = [(Z1 + b) for b in pI]\n",
    "    \n",
    "    return [pI, pX, pY, pZ]   "
   ]
  },
  {
   "cell_type": "code",
   "execution_count": 5,
   "metadata": {},
   "outputs": [],
   "source": [
    "def tensor(A, n):\n",
    "    # calculate the n fold tensor product of a matrix A\n",
    "    \n",
    "    kron = A\n",
    "    count = 1\n",
    "    while count < n:\n",
    "        kron = np.kron(kron,A)\n",
    "        count = count + 1\n",
    "        \n",
    "    if n == 2:\n",
    "        res = np.reshape(kron, (4,4))\n",
    "    elif n == 3:\n",
    "        res = np.reshape(kron, (4,4,4)) \n",
    "    elif n == 4:\n",
    "        res = np.reshape(kron, (4,4,4,4)) \n",
    "    elif n == 5:\n",
    "        res = np.reshape(kron, (4,4,4,4,4)) \n",
    "        \n",
    "    return res"
   ]
  },
  {
   "cell_type": "code",
   "execution_count": 9,
   "metadata": {},
   "outputs": [],
   "source": [
    "def dist_stat(initial, M, n):\n",
    "    # returns the success probability and the fidelity of an n-to-1 protocol M applied to an initial state\n",
    "    pil = pillars(M, n)\n",
    "    out = []\n",
    "    for layer in pil:   \n",
    "        coef = 0\n",
    "        for elt in layer:\n",
    "            if n == 2:\n",
    "                coef = coef + initial[int(elt[0]) + 2*int(elt[n]), int(elt[1]) + 2*int(elt[n+1])]\n",
    "            if n == 3:\n",
    "                coef = coef + initial[int(elt[0]) + 2*int(elt[n]), int(elt[1]) + 2*int(elt[n+1]), \\\n",
    "                                   int(elt[2]) + 2*int(elt[n+2])]\n",
    "            if n == 4:\n",
    "                coef = coef + initial[int(elt[0]) + 2*int(elt[n]), int(elt[1]) + 2*int(elt[n+1]), \\\n",
    "                                   int(elt[2]) + 2*int(elt[n+2]), int(elt[3]) + 2*int(elt[n+3])]\n",
    "            if n == 5:\n",
    "                coef = coef + initial[int(elt[0]) + 2*int(elt[n]), int(elt[1]) + 2*int(elt[n+1]), \\\n",
    "                                   int(elt[2]) + 2*int(elt[n+2]), int(elt[3]) + 2*int(elt[n+3]), \\\n",
    "                                    int(elt[4]) + 2*int(elt[n+4])]\n",
    "        out.append(coef)   \n",
    "    sp = sum(out)\n",
    "    fid = out[0]/sp\n",
    "\n",
    "    return round(sp,10), round(fid,10)"
   ]
  },
  {
   "cell_type": "code",
   "execution_count": 7,
   "metadata": {},
   "outputs": [],
   "source": [
    "def sucprob_fid_lists(initial, transversal_inv, n):\n",
    "    # calculate the possible distillation statistics (success probability & fidelity) of the protocols in a transversal\n",
    "    # applied to an initial state\n",
    "          \n",
    "    fid = []\n",
    "    sp = []\n",
    "    fslist = set()\n",
    "    for key, M in transversal_inv.items():\n",
    "        s, f = dist_stat(initial, M, n)\n",
    "        if (s,f) not in fslist:\n",
    "            sp.append(s)\n",
    "            fid.append(f)\n",
    "            fslist.add((s,f))\n",
    "\n",
    "    return sp, fid"
   ]
  },
  {
   "cell_type": "markdown",
   "metadata": {},
   "source": [
    "Results"
   ]
  },
  {
   "cell_type": "code",
   "execution_count": 8,
   "metadata": {},
   "outputs": [
    {
     "name": "stdout",
     "output_type": "stream",
     "text": [
      "([0.75, 0.65, 0.71, 0.625, 0.8, 0.675, 0.68, 0.85, 0.745], [0.7, 0.7615384615, 0.7112676056, 0.788, 0.7, 0.737037037, 0.7352941176, 0.7, 0.6879194631])\n"
     ]
    }
   ],
   "source": [
    "# Bell diagonal state\n",
    "\n",
    "init = tensor(vector([0.7, 0.15, 0.1, 0.05]), m)\n",
    "print(sucprob_fid_lists(init, transversal_inv, m))"
   ]
  },
  {
   "cell_type": "code",
   "execution_count": null,
   "metadata": {},
   "outputs": [],
   "source": []
  }
 ],
 "metadata": {
  "kernelspec": {
   "display_name": "SageMath 9.0",
   "language": "sage",
   "name": "sagemath"
  },
  "language_info": {
   "codemirror_mode": {
    "name": "ipython",
    "version": 3
   },
   "file_extension": ".py",
   "mimetype": "text/x-python",
   "name": "python",
   "nbconvert_exporter": "python",
   "pygments_lexer": "ipython3",
   "version": "3.7.3"
  }
 },
 "nbformat": 4,
 "nbformat_minor": 2
}
